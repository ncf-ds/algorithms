{
 "cells": [
  {
   "cell_type": "code",
   "execution_count": null,
   "metadata": {
    "collapsed": true
   },
   "outputs": [],
   "source": [
    "import sort_inspector\n",
    "import numpy as np\n",
    "import os\n",
    "import datetime"
   ]
  },
  {
   "cell_type": "markdown",
   "metadata": {},
   "source": [
    "9/19/2015\n",
    "\n",
    "Analysis of `introsort` "
   ]
  },
  {
   "cell_type": "code",
   "execution_count": null,
   "metadata": {
    "collapsed": false
   },
   "outputs": [],
   "source": [
    "from introsort import main_introsort\n",
    "import pandas as pd\n",
    "\n",
    "N = [10, 50, 100, 500, 1000, 5000, 10000]\n",
    "data = []\n",
    "\n",
    "for n in N:\n",
    "    #Sampling interval of random values for array A\n",
    "    endpoints = [np.floor(n*2**x).astype('int') for x in range(-2, 4)]\n",
    "    for b in endpoints:\n",
    "        A = np.random.random_integers(0, b, n)\n",
    "        timer_output = %timeit -o -c s=A[:]; main_introsort(s); #Create a new copy for each run\n",
    "        A2 = sort_inspector.Sequence(A)\n",
    "        main_introsort(A2)\n",
    "        data.append([n, timer_output.best, b/n, A2.count_comparisons(), int(A2.count_swaps())])\n",
    "\n",
    "df = pd.DataFrame(data, columns = ['N', 'T (s)', 'b/N', 'ncomparisons', 'nswaps'])\n",
    "df['log(N)'] = df['N'].apply(np.log2)\n",
    "df['log(T)'] = df['T (s)'].apply(np.log2)\n",
    "\n",
    "print_out = input(\"Write data out to CSV? \")\n",
    "\n",
    "if print_out in ['true', 'True', 't', 'T', 'y', 'Y', 'yes', 'Yes']:\n",
    "    fp2 = './data'\n",
    "    os.chdir(fp2)\n",
    "    ymd_today = datetime.date.strftime(datetime.date.today(), '%Y%m%d')\n",
    "    fn = \"{0}-introsort-analysis.csv\".format(ymd_today)\n",
    "    df.to_csv(fn, index=None)"
   ]
  },
  {
   "cell_type": "markdown",
   "metadata": {},
   "source": [
    "9/19/2015\n",
    "\n",
    "Analysis of `dual_pivot_quicksort` "
   ]
  },
  {
   "cell_type": "code",
   "execution_count": null,
   "metadata": {
    "collapsed": true
   },
   "outputs": [],
   "source": [
    "from dual_pivot_quicksort import dual_pivot_quicksort\n",
    "import pandas as pd\n",
    "\n",
    "N = [10, 50, 100, 500, 1000]\n",
    "data = []\n",
    "\n",
    "for n in N:\n",
    "    #Sampling interval of random values for array A\n",
    "    endpoints = [np.floor(n*2**x).astype('int') for x in range(-2, 4)]\n",
    "    for b in endpoints:\n",
    "        A = np.random.random_integers(0, b, n)\n",
    "        timer_output = %timeit -o -c s=A[:]; dual_pivot_quicksort(s, 0, len(s) - 1); #Create a new copy for each run\n",
    "        A2 = sort_inspector.Sequence(A)\n",
    "        dual_pivot_quicksort(A2,  0, len(A2) - 1)\n",
    "        data.append([n, timer_output.best, b/n, A2.count_comparisons(), int(A2.count_swaps())])\n",
    "\n",
    "df = pd.DataFrame(data, columns = ['N', 'T (s)', 'b/N', 'ncomparisons', 'nswaps'])\n",
    "df['log(N)'] = df['N'].apply(np.log2)\n",
    "df['log(T)'] = df['T (s)'].apply(np.log2)\n",
    "\n",
    "print_out = input(\"Write data out to CSV? \")\n",
    "\n",
    "if print_out in ['true', 'True', 't', 'T', 'y', 'Y', 'yes', 'Yes']:\n",
    "    fp2 = './data'\n",
    "    os.chdir(fp2)\n",
    "    ymd_today = datetime.date.strftime(datetime.date.today(), '%Y%m%d')\n",
    "    fn = \"{0}-dual-pivot-quicksort-analysis.csv\".format(ymd_today)\n",
    "    df.to_csv(fn, index=None)"
   ]
  },
  {
   "cell_type": "markdown",
   "metadata": {},
   "source": [
    "Analysis of dual pivot 2"
   ]
  },
  {
   "cell_type": "code",
   "execution_count": null,
   "metadata": {
    "collapsed": false
   },
   "outputs": [],
   "source": [
    "from dual_pivot_quicksort_2 import dual_pivot_quicksort\n",
    "import pandas as pd\n",
    "\n",
    "N = [10, 50, 100, 500, 1000]\n",
    "data = []\n",
    "\n",
    "for n in N:\n",
    "    #Sampling interval of random values for array A\n",
    "    endpoints = [np.floor(n*2**x).astype('int') for x in range(-2, 4)]\n",
    "    for b in endpoints:\n",
    "        A = np.random.random_integers(0, b, n)\n",
    "        timer_output = %timeit -o -c s=A[:]; dual_pivot_quicksort(s, 0, len(s) - 1); #Create a new copy for each run\n",
    "        A2 = sort_inspector.Sequence(A)\n",
    "        dual_pivot_quicksort(A2,  0, len(A2) - 1)\n",
    "        data.append([n, timer_output.best, b/n, A2.count_comparisons(), int(A2.count_swaps())])\n",
    "\n",
    "df = pd.DataFrame(data, columns = ['N', 'T (s)', 'b/N', 'ncomparisons', 'nswaps'])\n",
    "df['log(N)'] = df['N'].apply(np.log2)\n",
    "df['log(T)'] = df['T (s)'].apply(np.log2)\n",
    "\n",
    "print_out = input(\"Write data out to CSV? \")\n",
    "\n",
    "if print_out in ['true', 'True', 't', 'T', 'y', 'Y', 'yes', 'Yes']:\n",
    "    fp2 = './data'\n",
    "    os.chdir(fp2)\n",
    "    ymd_today = datetime.date.strftime(datetime.date.today(), '%Y%m%d')\n",
    "    fn = \"{0}-dual-pivot-quicksort-analysis-2.csv\".format(ymd_today)\n",
    "    df.to_csv(fn, index=None)"
   ]
  },
  {
   "cell_type": "code",
   "execution_count": null,
   "metadata": {
    "collapsed": false
   },
   "outputs": [],
   "source": [
    "from dual_pivot_quicksort_3 import dual_pivot_quicksort\n",
    "import pandas as pd\n",
    "\n",
    "N = [10, 50, 100, 500, 1000]\n",
    "data = []\n",
    "\n",
    "for n in N:\n",
    "    #Sampling interval of random values for array A\n",
    "    endpoints = [np.floor(n*2**x).astype('int') for x in range(-2, 4)]\n",
    "    for b in endpoints:\n",
    "        A = np.random.random_integers(0, b, n)\n",
    "        timer_output = %timeit -o -c s=A[:]; dual_pivot_quicksort(s, 0, len(s) - 1); #Create a new copy for each run\n",
    "        A2 = sort_inspector.Sequence(A)\n",
    "        dual_pivot_quicksort(A2,  0, len(A2) - 1)\n",
    "        data.append([n, timer_output.best, b/n, A2.count_comparisons(), int(A2.count_swaps())])\n",
    "\n",
    "df = pd.DataFrame(data, columns = ['N', 'T (s)', 'b/N', 'ncomparisons', 'nswaps'])\n",
    "df['log(N)'] = df['N'].apply(np.log2)\n",
    "df['log(T)'] = df['T (s)'].apply(np.log2)\n",
    "\n",
    "print_out = input(\"Write data out to CSV? \")\n",
    "\n",
    "if print_out in ['true', 'True', 't', 'T', 'y', 'Y', 'yes', 'Yes']:\n",
    "    fp2 = './data'\n",
    "    os.chdir(fp2)\n",
    "    ymd_today = datetime.date.strftime(datetime.date.today(), '%Y%m%d')\n",
    "    fn = \"{0}-dual-pivot-quicksort-analysis-3.csv\".format(ymd_today)\n",
    "    df.to_csv(fn, index=None)"
   ]
  }
 ],
 "metadata": {
  "kernelspec": {
   "display_name": "Python 3",
   "language": "python",
   "name": "python3"
  },
  "language_info": {
   "codemirror_mode": {
    "name": "ipython",
    "version": 3
   },
   "file_extension": ".py",
   "mimetype": "text/x-python",
   "name": "python",
   "nbconvert_exporter": "python",
   "pygments_lexer": "ipython3",
   "version": "3.4.3"
  }
 },
 "nbformat": 4,
 "nbformat_minor": 0
}
